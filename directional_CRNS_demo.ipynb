{
 "cells": [
  {
   "cell_type": "raw",
   "id": "6248c87a",
   "metadata": {},
   "source": [
    "---\n",
    "title: \"Directional CRNS measurements\"\n",
    "output: html_notebook\n",
    "---"
   ]
  },
  {
   "cell_type": "markdown",
   "id": "f9a467af",
   "metadata": {},
   "source": [
    "# Illustrate theoretical discernability and accuracy of CRNS signal of a directional CRNS probe\n",
    "Scripts for generating the figures of the manuscript\n",
    "\"Assessing the feasibility of a directional CRNS-sensor for estimating soil moisture\"\n",
    "by Till Francke, Maik Heistermann, Markus Köhli, Christian Budach, Martin Schrön, Sascha E. Oswald\n",
    "\n",
    "## 0. parameters ####\n",
    "This chunk contains the parameters of the simulation, or lets you choose the pre-defined scenarios \"bestcase\" and \"worstcase\"."
   ]
  },
  {
   "cell_type": "code",
   "execution_count": null,
   "id": "525b7d28",
   "metadata": {
    "lines_to_next_cell": 0,
    "tags": [
     "remove_cell"
    ]
   },
   "outputs": [],
   "source": [
    "# set the scenario of interest here:\n",
    "scenario=\"bestcase\" #\"bestcase\" or \"worstcase\"\n",
    "#scenario=\"worstcase\" #\"bestcase\" or \"worstcase\"\n",
    "\n",
    "library(latex2exp)\n",
    "\n",
    "R_1  = 2100 #base count rate of area_1 [counts per hour]\n",
    "# contrast = 0.5  #relative difference in countrate in area_2 [-] #for example figure CI\n",
    "contrast = 0.2  #relative difference in countrate in area_2 [-] #for example figure CI\n",
    "\n",
    "R_2 = R_1 * (1+contrast)\n",
    "\n",
    "\n",
    "if (scenario == \"bestcase\")\n",
    "{\n",
    "  # snr = 2.63 #bestcase detector #signal-noise-ratio of targeted to untargeted area (from Markus' simulations)\n",
    "  eps = 0.1 #bestcase ## fraction of non-epithermal neutrons in counts (=noise)\n",
    "  gamma_dir = 0.2 #fraction of non-albedo counts in the directional signal\n",
    "  eta = 0.72 #collimation efficiency\n",
    "  beta = 0.4 #fraction of total counts after installing the collimator\n",
    "  \n",
    "} else\n",
    "  if (scenario == \"worstcase\")\n",
    "  {\n",
    "    #snr = 1.57 #actual detector #signal-noise-ratio of targeted to untargeted area (from Markus' simulations)\n",
    "    eps = 0.3 #worstcase # fraction of non-epithermal neutrons in counts (=noise)\n",
    "    gamma_dir = 0.31 #fraction of non-albedo counts in the directional signal\n",
    "    eta = 0.61 #collimation efficiency\n",
    "    beta = 0.3 #fraction of total counts after installing the collimator\n",
    "  } else\n",
    "  { #idealistic scenario (testing only)\n",
    "    eps = 0.0  #fraction of non-epithermal neutrons in counts (=noise)\n",
    "    gamma_dir = 0. #fraction of non-albedo counts in the directional signal\n",
    "    eta = 0.7 #collimation efficiency\n",
    "    beta = 1 #fraction of total counts after installing the collimator\n",
    "  } \n",
    "gamma_no = 0.17 #fraction of non-albedo counts in the non-directional signal (0.13 - 0.26)\n",
    "\n",
    "#A = rbind(c(snr,1), c(1, snr)) / (1+snr) #for converting N1 and N2 to Nf1 and Nf2\n",
    "A = rbind(c(eta,1-eta), c(1-eta, eta))  #for converting N1 and N2 to Nf1 and Nf2\n",
    "\n",
    "B =  A*(beta-beta*gamma_dir) + 1/2*beta*gamma_dir\n",
    "#library(matlib)\n",
    "#Ai = inv(A) #for converting Nf1 and Nf2 to N1 and N2\n",
    "#Bi = inv(B) #for converting N_f to N_total\n",
    "#using analytical inversion of matrix:\n",
    "k_1 = 2 * beta * (2 * gamma_dir*eta - gamma_dir  - 2*eta + 1) \n",
    "k_2=(2 * gamma_dir * eta - gamma_dir- 2 * eta)\n",
    "Bi = 1/k_1 * rbind(c(k_2, k_2+2), c(k_2+2, k_2))  #for converting N_total to N_f\n",
    "\n",
    "delta_t = 1 # interval for aggregating the counts [h]\n",
    "p_thresh = 0.05 #threshold p-value\n",
    "precision = 0.05 #threshold for width of confidence interval of a rate, relative to true rate\n",
    "#ratio_precision = 0.1 #threshold for width of confidence interval of estimated ratio between two rates, relative to true ratio of rates\n",
    "\n",
    "#selection of ranges in plots\n",
    "\n",
    "#count rates to analyse\n",
    "#R_coarse = c(450, 2100, 8000, 39000, 144000)\n",
    "R_coarse = c(500, 2000, 8000, 40000, 150000) #Martin's suggestion\n",
    "R_fine   = exp(seq(from=log(min(R_coarse)), to = log(max(R_coarse)), length.out = 100))\n",
    "\n",
    "#aggregation intervals rates to analyse\n",
    "delta_ts_coarse = c(1, 6, 12, 24, 48)\n",
    "delta_ts_fine = exp(seq(from=log(min(delta_ts_coarse)), to=log(max(delta_ts_coarse+2)), length.out=200))  #aggregation intervals to test [h]\n",
    "\n",
    "contrasts_coarse = c(.2, .5, .8, 1.4 )\n",
    "contrasts_fine = exp(seq(from=log(min(contrasts_coarse)), to=log(max(contrasts_coarse)), length.out=100))  #contrasts to test [-]\n",
    "\n",
    "\n",
    "#plotting parameters\n",
    "save_plots = FALSE #enable/disable saving PDFs (must be disabled to run in mybinder)                    \n",
    "linetypes=c(bestcase=\"solid\", worstcase=\"dashed\") #linetypes for plots\n",
    "\n",
    "#wrapper for savePlot to handle saving plots differently (when run as notebook OR for producing file output)\n",
    "savePlot2 = function(...)\n",
    "{\n",
    "  if (names(dev.cur())!=\"RStudioGD\" & save_plots) #if this is an RStudio-Plot, don't save\n",
    "    savePlot(...)\n",
    "}\n",
    "\n",
    "#create list for displaying both scenarios when run again\n",
    "if (!exists(\"results\")) results=list() #create list, if not existing\n",
    "\n",
    "source(\"R/compute_ci_p.R\")\n",
    "\n",
    "# 0 compute the max/min requirements for the specified singular settings\n",
    "#searching to fulfill CI requirements\n",
    "#a) required rate for 24 h\n",
    "optimize(interval = range(R_coarse),        difference_to_threshold_ci, delta_t=24, contrast=contrast,          B=B, Bi=Bi, target_sensor=\"R_1r_t\", precision=precision)\n",
    "#b) required min aggregation interval\n",
    "optimize(interval = range(delta_ts_coarse), difference_to_threshold_ci,             contrast=contrast, R_1=R_1, B=B, Bi=Bi, target_sensor=\"R_1r_t\", precision=precision)\n",
    "#c) max contrast interval for 24 h\n",
    "optimize(interval = range(contrasts_coarse), difference_to_threshold_ci, delta_t=24,                    R_1=R_1, B=B, Bi=Bi, target_sensor=\"R_1r_t\", precision=precision)\n",
    "\n",
    "#searching to fulfill p-value requirements\n",
    "#d) required rate for 24 h\n",
    "optimize(interval = range(R_coarse),        difference_to_threshold_p, delta_t=24, contrast=contrast,          B=B, Bi=Bi, target_comparison=\"N_1r_t.N_2r_t\", p_thresh=p_thresh)\n",
    "#e) required min aggregation interval\n",
    "optimize(interval = range(delta_ts_coarse), difference_to_threshold_p,             contrast=contrast, R_1=R_1, B=B, Bi=Bi, target_comparison=\"N_1r_t.N_2r_t\", p_thresh=p_thresh)\n",
    "#f) min contrast interval resolvable for 1 h resolution\n",
    "optimize(interval = range(contrasts_coarse), difference_to_threshold_p, delta_t=1 ,                    R_1=R_1, B=B, Bi=Bi, target_comparison=\"N_1r_t.N_2r_t\", p_thresh=p_thresh)\n",
    "#g) min contrast interval resolvable for 24 h resolution\n",
    "optimize(interval = range(contrasts_coarse), difference_to_threshold_p, delta_t=24,                    R_1=R_1, B=B, Bi=Bi, target_comparison=\"N_1r_t.N_2r_t\", p_thresh=p_thresh)\n"
   ]
  },
  {
   "cell_type": "markdown",
   "id": "c91098e3",
   "metadata": {
    "lines_to_next_cell": 0
   },
   "source": [
    "## 1. simulate  for a single setting ####"
   ]
  },
  {
   "cell_type": "code",
   "execution_count": null,
   "id": "3f3b9d5b",
   "metadata": {
    "lines_to_next_cell": 0,
    "tags": [
     "remove_input"
    ]
   },
   "outputs": [],
   "source": [
    "\n",
    "res2 = t(sapply(X=delta_ts_fine, FUN=compute_ci_p2, R_1=R_1, R_2=R_2, B=B, Bi=Bi, eps=eps))\n",
    "\n",
    "#convert to match conventions of plotting routine\n",
    "tt = c(R_1, R_2, c(R_1, R_2) %*% B) #all four count rates\n",
    "R = t(array(data=tt, dimnames = list(c(\"R_1\", \"R_2\", \"R_f1\", \"R_f2\")))) #count rates [counts per hour]\n",
    "R = c( R, R * (1-eps)) #these are the total (\"_t\") and epithermal (\"_epi\") rates\n",
    "names(R) = paste0(c(\"R_1\", \"R_2\", \"R_f1\", \"R_f2\"), c(rep(\"_t\",4), rep(\"_epi\",4)))\n",
    "\n",
    "ci_cols = grep(dimnames(res2)[[2]], pattern = \"R_\", value = TRUE) #get the names of the rates contained\n",
    "ci_lohi =   array(NA, c(length(delta_ts_fine), length(ci_cols), 2), dimnames = list(NULL, ci_cols, c(\"lo\", \"hi\"))) #confidence intervals of measurements\n",
    "\n",
    "ci_lohi[,,\"lo\"] = res2[, ci_cols]\n",
    "ci_lohi[,,\"hi\"] = t(2 *R[sub(ci_cols, pattern = \"(\\\\d)r_\", repl=\"\\\\1_\")] - t(res2[, ci_cols])  ) #just the symetric other side\n",
    "p_value_comp    = res2[, !(dimnames(res2)[[2]] %in% ci_cols)]\n",
    "#str(res2)\n"
   ]
  },
  {
   "cell_type": "markdown",
   "id": "e0683b63",
   "metadata": {
    "lines_to_next_cell": 0
   },
   "source": [
    "This chunk does the computations for the following two plots.\n",
    "\n",
    "## 1.1 plot counts and CIs (fig. 7 / ci_example) ####"
   ]
  },
  {
   "cell_type": "code",
   "execution_count": null,
   "id": "1a5bd919",
   "metadata": {
    "lines_to_next_cell": 0,
    "tags": [
     "remove_input"
    ]
   },
   "outputs": [],
   "source": [
    "\n",
    "if (save_plots) x11()\n",
    "par(cex=1.2)\n",
    "\n",
    "#CI\n",
    "#cols2plot  = 1:NCOL(ci_lohi)\n",
    "#ncols2plot = NCOL(ci_lohi)\n",
    "\n",
    "#plot CI as lines\n",
    "cols2plot =  c(\"R_1_t\", \"R_2_t\", \"R_f1_t\", \"R_f2_t\",  \"R_1r_t\",  \"R_2r_t\") #columns containing the \"_t\" (total) values\n",
    "\n",
    "ncols2plot = length(cols2plot)\n",
    "\n",
    "library(RColorBrewer)\n",
    "n = ncols2plot - 2 #the two reconstructed will recycle the colours\n",
    "#construct palette\n",
    "palette(brewer.pal(n=n, \"Dark2\"))\n",
    "\n",
    "ylims = pmax(0, range(ci_lohi[-(1:5), cols2plot,])) #discard the very wide interval in the first three rows\n",
    "ylims[2] = max(ylims[2], max (R)) #accommodate largest rate in plot\n",
    "#ylims = c(1800, 2500)\n",
    "\n",
    "xlims = range(delta_ts_fine)\n",
    "\n",
    "plot(1, type=\"n\",\n",
    "     ylim=ylims, xlim=xlims, ylab = TeX(\"count rate R \\\\[counts h^{-1}\\\\]\"), xlab=expression(paste(\"aggregation interval \", Delta, \"t [h] \")), log=\"x\")\n",
    "\n",
    "#plot counts\n",
    "abline(h= R[  1:4 ], col=1:4, lty=1, lwd=2) #the \"_t\" rates\n",
    "#abline(h= R[-(1:4)], col=1:4, lty=\"dashed\", lwd=2) #the \"_epi\" rates\n",
    "\n",
    "\n",
    "lwd = 1\n",
    "#lty = ifelse(grepl(cols2plot, pattern = \"\\\\dr_\"), \"dotted\", \"dotdash\")\n",
    "lty = \"dashed\"\n",
    "\n",
    "matplot(delta_ts_fine, y= ci_lohi[, cols2plot,\"hi\"], type=\"l\", add = TRUE,\n",
    "        col=1:(ncols2plot-2), lty=lty, lwd=lwd)\n",
    "matplot(delta_ts_fine, y= ci_lohi[, cols2plot,\"lo\"], type=\"l\", add = TRUE,\n",
    "        col=1:(ncols2plot-2), lty=lty, lwd=lwd)\n",
    "\n",
    "\n",
    "#plot CIs as envelopes\n",
    "org_cols = palette() #store original palette\n",
    "transp_cols <- adjustcolor(org_cols, alpha.f = 0.3) #set transparency (for plotting envelopes)\n",
    "palette(transp_cols)\n",
    "\n",
    "for (i in 1:ncols2plot) #plot envelopes for increased visibility\n",
    "  polygon(c(delta_ts_fine, rev(delta_ts_fine)), \n",
    "          c(ci_lohi[,cols2plot[i],\"hi\"],rev(ci_lohi[,cols2plot[i],\"lo\"])), border = NA, col = i)\n",
    "palette(org_cols)\n",
    "\n",
    "ci_range = apply(ci_lohi[, cols2plot,], MAR=c(1,2), diff)   \n",
    "\n",
    "ref_cols = sub(cols2plot, pattern = \"(\\\\d)r_\", repl=\"\\\\1_\") #the columns containing the respective count rates\n",
    "\n",
    "within_precision = t(t(ci_range) / R[ref_cols]) <= precision #check, where the CI is smaller than the chosen precision\n",
    "min.which = function(x){ifelse(any(x), min(which(x)), NA)}\n",
    "min_delta_t = apply(within_precision, MAR=2, FUN=min.which) #get indices to times when error falls below threshold\n",
    "for (i in 1:ncols2plot) #plot lines denoting minimum aggregation interval\n",
    "{  \n",
    "  if(grepl(cols2plot[i], pattern = \"\\\\dr_\"))\n",
    "     {\n",
    "       linecol=transp_cols[i - ncols2plot+2]\n",
    "       fillcol= linecol\n",
    "     }   else\n",
    "     {\n",
    "       linecol= org_cols[i]\n",
    "       fillcol= linecol\n",
    "     }\n",
    "             \n",
    "  xplot = delta_ts_fine[min_delta_t[i]] #find position of x-axis where to plot the line\n",
    "  lines(rep(xplot,2),  ci_lohi[min_delta_t[i], cols2plot[i],], col=linecol) #plot line illustrating the width of the interval\n",
    "  lines(rep(xplot,2),  c(ci_lohi[min_delta_t[i], cols2plot[i],\"lo\"], 0), col=linecol, lty=\"dotted\")  #plot line pointing down to the x-axis\n",
    "  #points(xplot,  R[i], col=i, pch=25, crt=180 ) \n",
    "  points(xplot,  ylims[1], col=linecol, pch=25, bg=fillcol) #plot marker at x-axis\n",
    "}          \n",
    "axis(side=4, labels=FALSE)\n",
    "legend_str = sapply(FUN = TeX, X =  c(\"R_1\", \"R_2\", \"R_{f1}\", \"R_{f2}\", \"R_{r1}\", \"R_{r2}\", \"CI(95%)\"))\n",
    "legend(x=xlims[2], y=c(0.45, 0.55) %*% ylims, xjust=1, legend=legend_str, \n",
    "       lty=c(rep(\"solid\",6), \"dashed\"),\n",
    "       pch=c(rep(25,6),NA),\n",
    "       col=c(org_cols[1:4], transp_cols[1:2], \"black\"), \n",
    "       pt.bg = c(org_cols[1:4], transp_cols[1:2], \"black\"), \n",
    "       lwd=c(rep(2,6), 1), ncol=1, bg=\"white\")\n",
    "\n",
    "\n",
    "\n",
    "savePlot2(filename = paste0(\"ci_examp_\", scenario,\".png\"), type = \"png\")\n",
    "\n",
    "if (Sys.info()[\"sysname\"]==\"Windows\") #pdf-export only works in Windows\n",
    "  savePlot2(filename = paste0(\"ci_examp_\", scenario,\".pdf\"), type = \"pdf\")\n"
   ]
  },
  {
   "cell_type": "markdown",
   "id": "0b03d65b",
   "metadata": {
    "lines_to_next_cell": 0
   },
   "source": [
    "Example for 95 \\%-confidence intervals for the count rates obtained within the half-spaces (${R}_\\text{1,total}$ = 2100 counts/h, ${R}_\\text{2,total}$ = 2520 counts/h, \"bestcase scenario\", moderate contrast $\\Delta R=0.2$), by the directional CRNS-sensors (${R}_\\text{f1,total}$, ${R}_\\text{f2,total}$) and the rates reconstructed from the directional sensors (${R}_\\text{1r,total}$, ${R}_\\text{2r, total}$). The vertical arrows indicate the minimum required aggregation time to confine the CI within 5 \\% of the true value ($\\Delta t_\\text{min}^{\\text{determ}}$).\n",
    "\n",
    "## 1.2 p-values of comparison (fig. 8 / p_example)####"
   ]
  },
  {
   "cell_type": "code",
   "execution_count": null,
   "id": "74172831",
   "metadata": {
    "lines_to_next_cell": 0,
    "tags": [
     "remove_input"
    ]
   },
   "outputs": [],
   "source": [
    "\n",
    "if (save_plots) x11()\n",
    "par(cex=1.2)\n",
    "#cols2plot =  dimnames(p_value_comp)[[2]]\n",
    "cols2plot = c(\"N_1_t.N_2_t\", \"N_1r_t.N_2r_t\", \"N_f1_t.N_f2_t\") #, \"N_f1_t.N_f2_t\"\n",
    "\n",
    "ncols2plot = length(cols2plot)\n",
    "#ylims = range(p_value_comp[-(1:5), cols2plot]) \n",
    "ylims=c(0, 0.1)\n",
    "\n",
    "library(RColorBrewer)\n",
    "palette(brewer.pal(n=ncols2plot, \"Dark2\")) #construct palette\n",
    "\n",
    "ix_min_below_thresh = apply(p_value_comp, MAR=2, FUN=function(x){which(x <= p_thresh)[1]}) #find position, beyond which the p-value is lower than the specified threshold\n",
    "\n",
    "delta_t_subs = 1:min(max(ix_min_below_thresh, length(delta_ts_fine)/2), length(delta_ts_fine))\n",
    "\n",
    "matplot(delta_ts_fine, y= p_value_comp[, cols2plot], type=\"l\",\n",
    "        ylim=ylims, xlim=range(delta_ts_fine[delta_t_subs]), ylab = \"p-value of comparison [-]\", xlab=expression(paste(\"aggregation time \", Delta, \"t [h]\")),\n",
    "        col=1:ncols2plot, lty=1, lwd=2, log=\"x\")\n",
    "abline(h=p_thresh, lty=\"dashed\")\n",
    "\n",
    "#find indices, after which the p-value is below the threshold\n",
    "#abline(v=delta_ts_fine[ix_min_below_thresh[cols2plot]], col=1:ncols2plot, lty=\"dotted\")\n",
    "for (i in 1:ncols2plot)\n",
    "{  \n",
    "  xplot = delta_ts_fine[ix_min_below_thresh[cols2plot[i]]]\n",
    "  lines(rep(xplot,2), c(-0.002, p_thresh), col=i, lty=\"dotted\")\n",
    "  points(xplot,  -0.002, col=i, pch=25, bg=i) \n",
    "}\n",
    "\n",
    "cols2plot_l = gsub(x=cols2plot  , pattern=\"_epi\", repl=\",epi\")\n",
    "cols2plot_l = gsub(x=cols2plot_l, pattern=\"_t\", repl=\",total\")\n",
    "cols2plot_l = gsub(x=cols2plot_l, pattern=\"_([^\\\\.]*)\", repl=\"_{\\\\1}\")\n",
    "cols2plot_l = gsub(x=cols2plot_l, pattern=\"\\\\.\", repl=\" vs. \")\n",
    "cols2plot_l = gsub(x=cols2plot_l, pattern=\"N\", repl=\"R\")\n",
    "\n",
    "axis(side=4, labels=FALSE)\n",
    "legend_str = sapply(FUN = TeX, X =  c(cols2plot_l, \"p_{thresh} = 0.05\",  paste0(\"$\\\\Delta t$ | p < p_{thresh}\")))\n",
    "legend(\"topright\", legend=legend_str, \n",
    "       lty=c(rep(\"solid\", ncols2plot), \"dashed\", \"dotted\"),\n",
    "       lwd = c(rep(2, ncols2plot), 1, 1) ,\n",
    "       col=c(palette()[1:ncols2plot],\"black\",\"black\"),\n",
    "       bg=\"white\" )\n",
    "savePlot2(filename =  paste0(\"p_value_examp_\", scenario,\".png\"), type = \"png\")\n",
    "\n",
    "if (Sys.info()[\"sysname\"]==\"Windows\") #pdf-export only works in Windows\n",
    "  savePlot2(filename = paste0(\"p_value_examp_\", scenario,\".pdf\"), type = \"pdf\")\n"
   ]
  },
  {
   "cell_type": "markdown",
   "id": "22469f70",
   "metadata": {
    "lines_to_next_cell": 0
   },
   "source": [
    "p-values for discriminating pairs of measured count rates (${R}_\\text {1,total}$ = 2100 counts/h, ${R}_\\text {2,total}$ = 2520  counts/h, \"bestcase scenario\", moderate contrast $\\Delta R=0.2$). The vertical arrows indicate the minimum required aggregation time $\\Delta t_\\text{min}^{\\text{disting}}$ to statistically \\emph{distinguish} two rates at p = 0.05.\n",
    "\n",
    "# Simulations for a range of settings \n",
    "## 2.1 simulate  for a range of settings: R vs. t_min (CI-thresh) ####"
   ]
  },
  {
   "cell_type": "code",
   "execution_count": null,
   "id": "38da0189",
   "metadata": {
    "tags": [
     "remove_input"
    ]
   },
   "outputs": [],
   "source": [
    "\n",
    "# requires functions p_value_two_sided() and compute_ci_p2()\n",
    "\n",
    "\n",
    "delta_ts_fine = exp(seq(from=log(0.5), to=log(30), length.out=100))  #aggregation intervals to test [h]\n",
    "\n",
    "\n",
    "# find the minimum required aggregation time for the CI to fall below specified precision\n",
    "find_min_aggr_time_ci = function(R_1, contrast,  B,  Bi, target_sensor, precision) \n",
    "{  \n",
    "  res = optimize(interval = c(0.0, 1000), difference_to_threshold_ci, R_1=R_1, contrast=contrast, B=B, Bi=Bi, target_sensor=target_sensor, precision=precision)\n",
    "  return(res$minimum)\n",
    "}\n",
    "\n",
    "#\n",
    "#difference_to_threshold_ci(delta_t, R_1, contrast=contrast,  B,  Bi, target_sensor=\"R_1r_epi\", precision) \n",
    "#compute_ci_p2(delta_t = delta_t, R_1=R_1, R_2=R_1*(1+con), B=B, Bi=Bi, eps=eps)  \n",
    "\n",
    "collected_min_aggr_time = array(NA, dim=c(length(contrasts_coarse), length(R_fine)))\n",
    "for (i in 1:length(contrasts_coarse))\n",
    "{\n",
    "  contrast = contrasts_coarse[i]\n",
    "  collected_min_aggr_time[i,] = sapply(X=R_fine, FUN=find_min_aggr_time_ci, contrast=contrast, B=B, Bi=Bi, target_sensor=\"R_1r_t\", precision=precision, simplify = TRUE)\n",
    "}\n",
    "\n",
    "#store results for displaying both scenarios when run again\n",
    "results[[\"f2_1\"]][scenario]=list(collected_min_aggr_time)"
   ]
  },
  {
   "cell_type": "markdown",
   "id": "c4078c0b",
   "metadata": {
    "lines_to_next_cell": 0
   },
   "source": [
    "## 2.1 plot results (fig. 9) ####"
   ]
  },
  {
   "cell_type": "code",
   "execution_count": null,
   "id": "7484d863",
   "metadata": {
    "lines_to_next_cell": 0,
    "tags": [
     "remove_input"
    ]
   },
   "outputs": [],
   "source": [
    "\n",
    "library(RColorBrewer)\n",
    "palette(brewer.pal(n=nrow(collected_min_aggr_time), \"Dark2\")) #construct palette\n",
    "# if (save_plots) x11(width=8, height=4)\n",
    "# par(mar=par(\"mar\") + c(0, 0.5,-3,0), cex=1.2, oma=c(0,0,0,0))\n",
    "if (save_plots) x11()\n",
    "par(mar=par(\"mar\") + c(0, 0.5, 0,0), cex=1.2)\n",
    "\n",
    "\n",
    "ylims=c(1,100)\n",
    "\n",
    "options(scipen=5) #prevent scientific notation in log-scale of plot\n",
    "scens2plot = names(results[[\"f2_1\"]]) #get scenarios available in results\n",
    "for (scen2plot in scens2plot)\n",
    "{\n",
    "  collected_min_aggr_time = results[[\"f2_1\"]][[scen2plot]]\n",
    "  matplot(R_fine, y= t(collected_min_aggr_time), type=\"l\", log=\"x\",\n",
    "          ylim=ylims,\n",
    "          xlab=TeX(\"lower countrate R_{1,total} \\\\[counts h^{-1}\\\\]\"), \n",
    "          ylab=TeX(\"min. aggreg. time  $\\\\Delta t_{min}^{determ}$ \\\\[h\\\\]\"),\n",
    "          #main=scenario,\n",
    "          col=1:4, lwd=2,\n",
    "          lty=linetypes[scen2plot],\n",
    "          add=ifelse(scen2plot == scens2plot[1], FALSE, TRUE))\n",
    "}\n",
    "  \n",
    "#text(x = exp(mean(log(range(R_fine)))), y=0.9 * max(ylims), labels = paste0(\"\\\"\", scenario, \"\\\"\"), cex = 1.2)\n",
    "\n",
    "axis(side=4, labels=FALSE)\n",
    "legend_str = sapply(FUN = TeX, X =  c(\"$\\\\Delta R$=\", paste0(contrasts_coarse, \"\")))\n",
    "legend_str = c(legend_str, scens2plot)\n",
    "legend(\"topright\", legend=legend_str, \n",
    "       col=c(NA, palette()[ 1:length(contrasts_coarse)], rep(\"black\", length(scens2plot))),\n",
    "       lty=c(NA, rep(\"solid\", length(contrasts_coarse)), linetypes[scens2plot]), lwd=2)\n",
    "savePlot2(filename =  paste0(\"A1_CI_R_vs_aggrtime_\", scenario,\".png\"), type = \"png\")\n",
    "if (Sys.info()[\"sysname\"]==\"Windows\") #pdf-export only works in Windows\n",
    "  savePlot2(filename = paste0(\"A1_CI_R_vs_aggrtime_\", scenario,\".pdf\"), type = \"pdf\")\n"
   ]
  },
  {
   "cell_type": "markdown",
   "id": "f84d3412",
   "metadata": {
    "lines_to_next_cell": 0
   },
   "source": [
    "Minimum aggregation time $\\Delta t_\\text{min}^{\\text{determ}}$ required to obtain the reconstructed count rate ${R}_\\text{1r}$ from the two directional measurements with a CI smaller than 5 \\% of the actual value.\n",
    "\n",
    "## 2.2 simulate for a range of settings: R vs. t_min (p-thresh) ####"
   ]
  },
  {
   "cell_type": "code",
   "execution_count": null,
   "id": "fdd3f8af",
   "metadata": {
    "tags": [
     "remove_input"
    ]
   },
   "outputs": [],
   "source": [
    "\n",
    "# requires functions p_value_two_sided() and compute_ci_p2()\n",
    "\n",
    "#delta_ts_fine = exp(seq(from=log(0.5), to=log(30), length.out=100))  #aggregation intervals to test [h]\n",
    "\n",
    "\n",
    "\n",
    "\n",
    "# find the minimum required aggregation time for the p-value to fall below specified p_thresh\n",
    "find_min_aggr_time_p = function(R_1, contrast,  B,  Bi, target_comparison, p_thresh) \n",
    "{  \n",
    "  minv = optimize(interval = c(0.01, 48), difference_to_threshold_p, R_1=R_1, contrast=contrast, B=B, Bi=Bi, target_comparison=\"N_1r_t.N_2r_t\", p_thresh=p_thresh)$minimum\n",
    "  return(minv)\n",
    "}\n",
    "\n",
    "#minimum aggregation time required for example setting \n",
    "#(delta_t = find_min_aggr_time_p(R_1 = R_1, contrast=contrast, B=B, Bi=Bi, target_comparison=\"N_1r_t.N_2r_t\", p_thresh=p_thresh))\n",
    "#difference_to_threshold_p(delta_t = 1, R_1=R_1, contrast=contrast, B=B, Bi=Bi, target_comparison=\"N_1r_t.N_2r_t\", p_thresh=p_thresh)\n",
    "#compute_ci_p2(delta_t = 7.97, R_1=R_1, R_2=R_2, B=B, Bi=Bi)  \n",
    "\n",
    "collected_min_aggr_time = array(NA, dim=c(length(contrasts_coarse), length(R_fine)))\n",
    "\n",
    "for (i in 1:length(contrasts_coarse))\n",
    "{\n",
    "  contrast = contrasts_coarse[i]\n",
    "  collected_min_aggr_time[i,] = sapply(X=R_fine, FUN=find_min_aggr_time_p, contrast=contrast, B=B, Bi=Bi, target_comparison=\"N_1r_t.N_2r_t\", p_thresh=p_thresh, simplify = TRUE)\n",
    "}\n",
    "\n",
    "#store results for displaying both scenarios when run again\n",
    "results[[\"f2_2\"]][scenario]=list(collected_min_aggr_time)"
   ]
  },
  {
   "cell_type": "markdown",
   "id": "40bae555",
   "metadata": {
    "lines_to_next_cell": 0
   },
   "source": [
    "## 2.2 plot results (fig. 10) ####"
   ]
  },
  {
   "cell_type": "code",
   "execution_count": null,
   "id": "e0742355",
   "metadata": {
    "lines_to_next_cell": 0,
    "tags": [
     "remove_input"
    ]
   },
   "outputs": [],
   "source": [
    "\n",
    "library(RColorBrewer)\n",
    "palette(brewer.pal(n=nrow(collected_min_aggr_time), \"Dark2\")) #construct palette\n",
    "\n",
    "# if (save_plots) x11(width=8, height=4)\n",
    "# par(mar=par(\"mar\") + c(0, 0.5,-3,0), cex=1.2, oma=c(0,0,0,0))\n",
    "if (save_plots) x11()\n",
    "par(mar=par(\"mar\") + c(0, 0.5,0,0), cex=1.2)\n",
    "\n",
    "scens2plot = names(results[[\"f2_2\"]]) #get scenarios available in results\n",
    "for (scen2plot in scens2plot)\n",
    "{\n",
    "  collected_min_aggr_time = results[[\"f2_2\"]][[scen2plot]]\n",
    "  matplot(R_fine, y= t(collected_min_aggr_time), type=\"l\", log=\"x\",\n",
    "        xlab=TeX(\"lower countrate R_{1,total} \\\\[counts h^{-1}\\\\]\"), \n",
    "        ylab=TeX(\"min. aggreg. time $ $ $ \\\\Delta t_{min}^{disting}$ \\\\[h\\\\]\"),\n",
    "        col=1:4, lwd=2,\n",
    "        lty=linetypes[scen2plot],\n",
    "        add=ifelse(scen2plot == scens2plot[1], FALSE, TRUE)\n",
    "  )\n",
    "}        \n",
    "\n",
    "\n",
    "#text(x = exp(mean(log(range(R_fine)))), y=0.9 * max(collected_min_aggr_time), labels = paste0(\"\\\"\", scenario, \"\\\"\"), cex = 1.2)\n",
    "\n",
    "axis(side=4, labels=FALSE)\n",
    "legend_str = sapply(FUN = TeX, X =  c(\"$\\\\Delta R$=\", paste0(contrasts_coarse, \"\")))\n",
    "legend_str = c(legend_str, scens2plot)\n",
    "legend(\"topright\", legend=legend_str, \n",
    "       col=c(NA, palette()[ 1:length(contrasts_coarse)], rep(\"black\", length(scens2plot))),\n",
    "       lty=c(NA, rep(\"solid\", length(contrasts_coarse)), linetypes[scens2plot]), lwd=2\n",
    ")\n",
    "savePlot2(filename = paste0(\"A2_p_R_vs_aggrtime_\", scenario,\".png\"), type = \"png\")\n",
    "\n",
    "if (Sys.info()[\"sysname\"]==\"Windows\") #pdf-export only works in Windows\n",
    "  savePlot2(filename = paste0(\"A2_p_R_vs_aggrtime_\", scenario,\".pdf\"), type = \"pdf\")\n"
   ]
  },
  {
   "cell_type": "markdown",
   "id": "4f2d978b",
   "metadata": {
    "lines_to_next_cell": 0
   },
   "source": [
    "Minimum aggregation time $\\Delta t_\\text{min}^{\\text{disting}}$ required to statistically separate the reconstructed count rates  ${R}_\\text{1r}$ and ${R}_\\text{2r}$ from the two directional measurements with p-value < 0.05.\n",
    "\n",
    "## 3.1 simulate  for a range of settings: R vs. contrasts (CI-thresh) ####"
   ]
  },
  {
   "cell_type": "code",
   "execution_count": null,
   "id": "f623a9cc",
   "metadata": {
    "tags": [
     "remove_input"
    ]
   },
   "outputs": [],
   "source": [
    "\n",
    "# requires functions p_value_two_sided() and compute_ci_p2()\n",
    "\n",
    "# find the minimum required contrast for the CI to fall below specified precision\n",
    "find_max_contrast = function(R_1, delta_t,  B,  Bi, target_sensor, precision) \n",
    "{  \n",
    "  res = optimize(interval = c(0.0, 10), difference_to_threshold_ci, R_1=R_1, delta_t=delta_t, B=B, Bi=Bi, target_sensor, precision)\n",
    "  \n",
    "  #optimize(interval = range(contrasts_coarse), difference_to_threshold_ci, R_1=2000, R_2=2000+100, B=B, Bi=Bi, target_sensor, precision)\n",
    "  if (res$objective > precision/100) res$minimum = NA #if the requested precision cannot be reached, return NA\n",
    "  \n",
    "  return(res$minimum)\n",
    "}\n",
    "#max contrast allowed for example setting \n",
    "#find_max_contrast(delta_t=0.1, R_1 = R_1, B=B, Bi=Bi, target_sensor=\"R_1r_t\", precision=precision) #test\n",
    "\n",
    "\n",
    "collected_max_contrast = array(NA, dim=c(length(delta_ts_coarse), length(R_fine)))\n",
    "\n",
    "for (i in 1:length(delta_ts_coarse))\n",
    "{\n",
    "  delta_t = delta_ts_coarse[i]\n",
    "  collected_max_contrast[i,] = sapply(X=R_fine, FUN=find_max_contrast, delta_t=delta_t, B=B, Bi=Bi, target_sensor=\"R_1r_t\", precision=precision, simplify = TRUE)\n",
    "}\n",
    "\n",
    "#store results for displaying both scenarios when run again\n",
    "results[[\"f3_1\"]][scenario]=list(collected_max_contrast)"
   ]
  },
  {
   "cell_type": "markdown",
   "id": "5b210f79",
   "metadata": {
    "lines_to_next_cell": 0
   },
   "source": [
    "## 3.1 plot results (fig. 11)####"
   ]
  },
  {
   "cell_type": "code",
   "execution_count": null,
   "id": "d718a73d",
   "metadata": {
    "lines_to_next_cell": 0,
    "tags": [
     "remove_input"
    ]
   },
   "outputs": [],
   "source": [
    "\n",
    "library(RColorBrewer)\n",
    "palette(brewer.pal(n=nrow(collected_max_contrast), \"Paired\")) #construct palette\n",
    "\n",
    "if (save_plots) x11()\n",
    "par(mar=par(\"mar\") + c(0, 0.5,0,0), cex=1.2)\n",
    "options(scipen=5) #prevent scientific notation in log-scale of plot\n",
    "ylims=c(0, 2*max(contrasts_coarse))\n",
    "\n",
    "scens2plot = names(results[[\"f3_1\"]]) #get scenarios available in results\n",
    "for (scen2plot in scens2plot)\n",
    "{\n",
    "  collected_max_contrast = results[[\"f3_1\"]][[scen2plot]]\n",
    "  matplot(R_fine, y= t(collected_max_contrast), type=\"l\",\n",
    "        xlab=TeX(\"lower countrate R_{1,epi} \\\\[counts h^{-1}\\\\]\"), \n",
    "        ylab=TeX(\"max contrast $ $ $\\\\Delta R$ \\\\[-\\\\]\"),\n",
    "        ylim=ylims,\n",
    "        col=1:length(delta_ts_coarse), lwd=2, log=\"x\",\n",
    "        lty=linetypes[scen2plot],\n",
    "        add=ifelse(scen2plot == scens2plot[1], FALSE, TRUE)\n",
    ")\n",
    "}        \n",
    "\n",
    "#text(x = exp(mean(log(range(R_fine)))), y=0.9 * max(ylims), labels = paste0(\"\\\"\", scenario, \"\\\"\"), cex = 1.2)\n",
    "\n",
    "axis(side=4, labels=FALSE)\n",
    "legend_str = sapply(FUN = TeX, X =  c(\"$\\\\Delta t$=\", paste0(delta_ts_coarse, \" h\")))\n",
    "legend_str = c(legend_str, scens2plot)\n",
    "legend(\"topleft\", legend=legend_str, \n",
    "       col=c(NA, palette()[ 1:length(delta_ts_coarse)], rep(\"black\", length(scens2plot))),\n",
    "       bg = \"white\",\n",
    "       lty=c(NA, rep(\"solid\", length(delta_ts_coarse)), linetypes[scens2plot]), lwd=2\n",
    ")\n",
    "savePlot2(filename = paste0(\"B1_ci_R_vs_contrast_\", scenario,\".png\"), type = \"png\")\n",
    "if (Sys.info()[\"sysname\"]==\"Windows\") #pdf-export only works in Windows\n",
    "  savePlot2(filename = paste0(\"B1_ci_R_vs_contrast_\", scenario,\".pdf\"), type = \"pdf\")\n"
   ]
  },
  {
   "cell_type": "markdown",
   "id": "6fe9f046",
   "metadata": {
    "lines_to_next_cell": 0
   },
   "source": [
    "Maximum possible contrast $\\Delta R$ in reconstructing the count rates ${R}_\\text{1r}$ from the two directional measurements with a CI smaller than 5 \\% of the true value.\n",
    "\n",
    "## 3.2 simulate  for a range of settings: R vs. contrasts (p-thresh) ####"
   ]
  },
  {
   "cell_type": "code",
   "execution_count": null,
   "id": "ff79f8ce",
   "metadata": {
    "tags": [
     "remove_input"
    ]
   },
   "outputs": [],
   "source": [
    "\n",
    "# requires functions p_value_two_sided() and compute_ci_p()\n",
    "\n",
    "# find the minimum required aggregation time for the p-value to fall below specified p_thresh\n",
    "find_min_contrast = function(R_1, delta_t,  B,  Bi, target_comparison, p_thresh) \n",
    "{  \n",
    "  res = optimize(interval = c(0.001, 100), difference_to_threshold_p, R_1=R_1, delta_t=delta_t, B=B, Bi=Bi, target_comparison, p_thresh)\n",
    "  if (res$objective > p_thresh/100) res$minimum = NA #if the requested p_value cannot be reached, return NA\n",
    "  \n",
    "  return(res$minimum)\n",
    "}\n",
    "# R_1=5000\n",
    "# con=0.1\n",
    "# #delta_t=9\n",
    "# delta_t=6.350596\n",
    "# \n",
    "# (con = find_min_contrast (R_1, delta_t,  B,  Bi, target_comparison=\"N_1r_epi.N_2r_epi\", p_thresh) )\n",
    "# difference_to_threshold_p(delta_t, R_1, con,  B,  Bi,  target_comparison=\"N_1r_epi.N_2r_epi\", p_thresh) \n",
    "# compute_ci_p2(delta_t = delta_t, R_1=R_1, R_2=R_1*(1+con), B=B, Bi=Bi, eps=eps)  \n",
    "\n",
    "\n",
    "collected_min_contrast = array(NA, dim=c(length(delta_ts_coarse), length(R_fine)))\n",
    "\n",
    "for (i in 1:length(delta_ts_coarse))\n",
    "{\n",
    "  delta_t = delta_ts_coarse[i]\n",
    "  collected_min_contrast[i,] = sapply(X=R_fine, FUN=find_min_contrast, delta_t=delta_t, B=B, Bi=Bi, target_comparison=\"N_1r_t.N_2r_t\", p_thresh=p_thresh, simplify = TRUE)\n",
    "}\n",
    "#store results for displaying both scenarios when run again\n",
    "results[[\"f3_2\"]][scenario]=list(collected_min_contrast)\n",
    "\n",
    "#find_min_contrast (R_1, delta_t,  B,  Bi, target_comparison=\"N_1r_t.N_2r_t\", p_thresh) \n"
   ]
  },
  {
   "cell_type": "markdown",
   "id": "37edd8a2",
   "metadata": {
    "lines_to_next_cell": 0
   },
   "source": [
    "## 3.2 plot results (fig. 12)####"
   ]
  },
  {
   "cell_type": "code",
   "execution_count": null,
   "id": "01fe8990",
   "metadata": {
    "lines_to_next_cell": 0,
    "tags": [
     "remove_input"
    ]
   },
   "outputs": [],
   "source": [
    "\n",
    "library(RColorBrewer)\n",
    "palette(brewer.pal(n=nrow(collected_min_contrast), \"Paired\")) #construct palette\n",
    "\n",
    "if (save_plots) x11()\n",
    "par(mar=par(\"mar\") + c(0, 0.5,0,0), cex=1.2)\n",
    "ylims = c(0, 0.5*max(contrasts_coarse))\n",
    "scens2plot = names(results[[\"f3_2\"]]) #get scenarios available in results\n",
    "for (scen2plot in scens2plot)\n",
    "{\n",
    "  collected_min_contrast = results[[\"f3_2\"]][[scen2plot]]\n",
    "  matplot(R_fine, y= t(collected_min_contrast), type=\"l\",\n",
    "        xlab=TeX(\"lower countrate R_{1} \\\\[counts h^{-1}\\\\]\"), \n",
    "        ylab=TeX(\"min contrast $ $ $\\\\Delta R$ [-]\"),\n",
    "        col=1:length(delta_ts_coarse), lwd=2 , log=\"x\",\n",
    "        ylim=ylims,\n",
    "        lty=linetypes[scen2plot],\n",
    "        add=ifelse(scen2plot == scens2plot[1], FALSE, TRUE)\n",
    "        )\n",
    "}\n",
    "\n",
    "#text(x = exp(mean(log(range(R_fine)))), y=0.9 * max(ylims), labels = paste0(\"\\\"\", scenario, \"\\\"\"), cex = 1.2)\n",
    "\n",
    "axis(side=4, labels=FALSE)\n",
    "legend_str = sapply(FUN = TeX, X =  c(\"$\\\\Delta t$=\", paste0(delta_ts_coarse, \" h\")))\n",
    "legend_str = c(legend_str, scens2plot)\n",
    "legend(\"topright\", legend=legend_str, \n",
    "       col=c(NA, palette()[ 1:length(delta_ts_coarse)], rep(\"black\", length(scens2plot))),\n",
    "       lty=c(NA, rep(\"solid\", length(delta_ts_coarse)), linetypes[scens2plot]), lwd=2\n",
    "       )\n",
    "savePlot2(filename = paste0(\"B2_p_R_vs_contrast_\", scenario,\".png\"), type = \"png\")\n",
    "if (Sys.info()[\"sysname\"]==\"Windows\") #pdf-export only works in Windows\n",
    "  savePlot2(filename = paste0(\"B2_p_R_vs_contrast_\", scenario,\".pdf\"), type = \"pdf\")\n",
    "\n"
   ]
  },
  {
   "cell_type": "markdown",
   "id": "6110a1ca",
   "metadata": {
    "lines_to_next_cell": 0
   },
   "source": [
    "Minimum contrast $\\Delta R$ required to statistically separate the reconstructed count rates  ${R}_\\text{1r}$ and ${R}_\\text{2r}$ from the two directional measurements with p-value < 0.05.\n",
    "\n",
    "## 4.1 simulate  for a range of settings: aggr_time vs. contrasts (CI-thresh) ####"
   ]
  },
  {
   "cell_type": "code",
   "execution_count": null,
   "id": "56104420",
   "metadata": {
    "tags": [
     "remove_input"
    ]
   },
   "outputs": [],
   "source": [
    "\n",
    "# requires functions p_value_two_sided() and compute_ci_p2()\n",
    "\n",
    "# find the minimum required aggregation time for the CI to fall below specified precision\n",
    "delta_ts_fine2 = exp(seq(from=log(min(delta_ts_coarse)), to=log(2*max(delta_ts_coarse)), length.out=200))  #aggregation intervals to test [h]\n",
    "#here, we need some finer resolution to produce continuous lines\n",
    "\n",
    "\n",
    "find_max_contrast = function(R_1, delta_t,  B,  Bi, target_sensor, precision) \n",
    "{  \n",
    "  res = optimize(interval = c(0, 15), difference_to_threshold_ci, delta_t=delta_t, R_1=R_1, B=B, Bi=Bi, target_sensor=target_sensor, precision=precision)\n",
    "  \n",
    "  if (res$objective > precision/100) res$minimum = NA #if the requested precision cannot be reached, return NA\n",
    "  \n",
    "  return(res$minimum)\n",
    "}\n",
    "#find_max_contrast(delta_t = 1, R_1 = R_coarse[1], B=B, Bi=Bi, target_sensor=\"R_1r_t\", precision=precision) #test\n",
    "\n",
    "\n",
    "#required rate for 24 h and low contrast\n",
    "optimize(interval = range(R_coarse), difference_to_threshold_ci, delta_t=24, contrast=min(contrasts_coarse), B=B, Bi=Bi, target_sensor=\"R_1r_t\", precision=precision)\n",
    "#required rate for 24 h and high contrast\n",
    "optimize(interval = range(R_coarse), difference_to_threshold_ci, delta_t=24, contrast=max(contrasts_coarse), B=B, Bi=Bi, target_sensor=\"R_1r_t\", precision=precision)\n",
    "\n",
    "\n",
    "\n",
    "\n",
    "collected_max_contrast =array(NA, dim=c(length(R_coarse), length(delta_ts_fine2)))\n",
    "\n",
    "for (i in 1:length(R_coarse))\n",
    "{\n",
    "  R_1 = R_coarse[i]\n",
    "  collected_max_contrast[i,] = sapply(X=delta_ts_fine2, FUN=find_max_contrast, R_1=R_1, B=B, Bi=Bi, target_sensor=\"R_1r_t\", precision=precision, simplify = TRUE)\n",
    "}\n",
    "\n",
    "#store results for displaying both scenarios when run again\n",
    "results[[\"f4_1\"]][scenario]=list(collected_max_contrast)\n"
   ]
  },
  {
   "cell_type": "markdown",
   "id": "325f4e89",
   "metadata": {
    "lines_to_next_cell": 0
   },
   "source": [
    "## 4.1 plot results (fig. 13)####"
   ]
  },
  {
   "cell_type": "code",
   "execution_count": null,
   "id": "35616904",
   "metadata": {
    "lines_to_next_cell": 0,
    "tags": [
     "remove_input"
    ]
   },
   "outputs": [],
   "source": [
    "\n",
    "library(RColorBrewer)\n",
    "palette(brewer.pal(n=nrow(collected_max_contrast), \"Paired\")) #construct palette\n",
    "\n",
    "if (save_plots) x11()\n",
    "par(mar=par(\"mar\") + c(0, 0.5,0,0), cex=1.2)\n",
    "options(scipen=5) #prevent scientific notation in log-scale of plot\n",
    "ylims = c(0.5*min(contrasts_coarse), 2*max(contrasts_coarse))\n",
    "xlims = c(min(delta_ts_fine2), 1.5*max(delta_ts_fine2))\n",
    "\n",
    "scens2plot = names(results[[\"f4_1\"]]) #get scenarios available in results\n",
    "for (scen2plot in scens2plot)\n",
    "{\n",
    "  collected_max_contrast = results[[\"f4_1\"]][[scen2plot]]\n",
    "  matplot(delta_ts_fine2, y= t(collected_max_contrast), type=\"l\",\n",
    "        xlab=TeX(\"aggregation time  $\\\\Delta t$ \\\\[h\\\\]\"),\n",
    "        ylab=TeX(\"max contrast $ $ $\\\\Delta R$ \\\\[-\\\\]\"),\n",
    "        col=1:length(R_coarse), lwd=2, log=\"xy\",\n",
    "        xlim=xlims,\n",
    "        ylim=ylims,\n",
    "        lty=linetypes[scen2plot],\n",
    "        add=ifelse(scen2plot == scens2plot[1], FALSE, TRUE)\n",
    "  )\n",
    "}\n",
    "\n",
    "#text(x = exp(mean(log(range(delta_ts_fine2)))), y=0.9 * max(ylims), labels = paste0(\"\\\"\", scenario, \"\\\"\"), cex = 1.2)\n",
    "axis(side=4, labels=FALSE)\n",
    "legend_str = sapply(FUN = TeX, X =  c(\"R_1 [counts/h]=\", paste0(R_coarse, \"\")))\n",
    "legend_str = c(legend_str, scens2plot)\n",
    "legend(\"bottomright\", legend=legend_str, \n",
    "       col=c(NA, palette()[ 1:length(R_coarse)], rep(\"black\", length(scens2plot))),\n",
    "       lty=c(NA, rep(\"solid\", length(R_coarse)), linetypes[scens2plot]), \n",
    "       lwd=2, bg = \"white\")\n",
    "\n",
    "savePlot2(filename = paste0(\"C1_ci_aggrtime_vs_contrast_\", scenario,\".png\"), type = \"png\")\n",
    "if (Sys.info()[\"sysname\"]==\"Windows\") #pdf-export only works in Windows\n",
    "  savePlot2(filename = paste0(\"C1_ci_aggrtime_vs_contrast_\", scenario,\".pdf\"), type = \"pdf\")\n"
   ]
  },
  {
   "cell_type": "markdown",
   "id": "7c014a6f",
   "metadata": {
    "lines_to_next_cell": 0
   },
   "source": [
    "Maximum possible contrast $\\Delta R$ to allow the reconstruction of the count rate ${R}_\\text{1r}$ from the two directional measurements with a CI smaller than 5 \\% of the true value with the aggregation time $\\Delta t$.\n",
    "\n",
    "## 4.2 simulate  for a range of settings: R vs. contrasts (p-thresh) ####"
   ]
  },
  {
   "cell_type": "code",
   "execution_count": null,
   "id": "7d5f579f",
   "metadata": {
    "tags": [
     "remove_input"
    ]
   },
   "outputs": [],
   "source": [
    "\n",
    "# requires functions p_value_two_sided() and compute_ci_p()\n",
    "\n",
    "# find the minimum required contrast for the p-value to fall below specified p_thresh\n",
    "find_min_contrast = function(R_1, delta_t,  B,  Bi, target_comparison, p_thresh) \n",
    "{  \n",
    "  res = optimize(interval = c(0.001, 10), difference_to_threshold_p, R_1=R_1, delta_t=delta_t, B=B, Bi=Bi, target_comparison, p_thresh)\n",
    "  return(res$minimum)\n",
    "}\n",
    "\n",
    "\n",
    "collected_min_contrast = array(NA, dim=c(length(R_coarse), length(delta_ts_fine)))\n",
    "\n",
    "for (i in 1:length(R_coarse))\n",
    "{\n",
    "  R_1 = R_coarse[i]\n",
    "  collected_min_contrast[i,] = sapply(X=delta_ts_fine, FUN=find_min_contrast, R_1=R_1, B=B, Bi=Bi, target_comparison=\"N_1r_t.N_2r_t\", p_thresh=p_thresh, simplify = TRUE)\n",
    "}\n",
    "\n",
    "#store results for displaying both scenarios when run again\n",
    "results[[\"f4_2\"]][scenario]=list(collected_min_contrast)\n",
    "\n",
    "\n",
    "#find_min_contrast(delta_ts_fine[i], R_1=R_1, B=B, Bi=Bi, target_comparison=\"N_1r_t.N_2r_t\", p_thresh=p_thresh)\n",
    "\n",
    "\n",
    "#min required rate for 1 h and low contrast\n",
    "optimize(interval = c(1,100000), difference_to_threshold_p, delta_t=1, contrast=min(contrasts_coarse), B=B, Bi=Bi, target_comparison=\"N_1r_t.N_2r_t\", p_thresh=p_thresh)\n",
    "#required rate for 1 h and high contrast\n",
    "optimize(interval = c(1,100000), difference_to_threshold_p, delta_t=1, contrast=max(contrasts_coarse), B=B, Bi=Bi, target_comparison=\"N_1r_t.N_2r_t\", p_thresh=p_thresh)\n",
    "#required rate for 1 h and contrast 0.4\n",
    "optimize(interval = c(1,100000), difference_to_threshold_p, delta_t=1, contrast=0.4, B=B, Bi=Bi, target_comparison=\"N_1r_t.N_2r_t\", p_thresh=p_thresh)\n",
    "\n"
   ]
  },
  {
   "cell_type": "markdown",
   "id": "07906434",
   "metadata": {
    "lines_to_next_cell": 0
   },
   "source": [
    "## 4.2 plot results (fig. 14)####"
   ]
  },
  {
   "cell_type": "code",
   "execution_count": null,
   "id": "b3d58661",
   "metadata": {
    "lines_to_next_cell": 0,
    "tags": [
     "remove_input"
    ]
   },
   "outputs": [],
   "source": [
    "\n",
    "library(RColorBrewer)\n",
    "palette(brewer.pal(n=nrow(collected_min_contrast), \"Paired\")) #construct palette\n",
    "\n",
    "if (save_plots) x11()\n",
    "par(mar=par(\"mar\") + c(0, 0.5,0,0), cex=1.2)\n",
    "options(scipen=5) #prevent scientific notation in log-scale of plot\n",
    "ylims = c(1e-3, 0.5*max(contrasts_coarse))\n",
    "\n",
    "scens2plot = names(results[[\"f4_2\"]]) #get scenarios available in results\n",
    "for (scen2plot in scens2plot)\n",
    "{\n",
    "  collected_min_contrast = results[[\"f4_2\"]][[scen2plot]]\n",
    "  matplot(delta_ts_fine, y= t(collected_min_contrast), type=\"l\",\n",
    "        xlab=TeX(\"aggregation time  $\\\\Delta t$ \\\\[h\\\\]\"),\n",
    "        ylab=TeX(\"min contrast $ $ $\\\\Delta R$ \\\\[-\\\\]\"),\n",
    "        ylim=ylims,\n",
    "        col=1:length(R_coarse), lwd=2, log=\"xy\",\n",
    "        lty=linetypes[scen2plot],\n",
    "        add=ifelse(scen2plot == scens2plot[1], FALSE, TRUE)\n",
    ")\n",
    "}\n",
    "\n",
    "#text(x = exp(mean(log(range(delta_ts_fine)))), y=0.9 * max(ylims), labels = paste0(\"\\\"\", scenario, \"\\\"\"), cex = 1.2)\n",
    "\n",
    "axis(side=4, labels=FALSE)\n",
    "legend_str = sapply(FUN = TeX, X =  c(\"R_1 [counts/h]=\", paste0(R_coarse, \"\")))\n",
    "legend_str = c(legend_str, scens2plot)\n",
    "legend(\"bottomleft\", legend=legend_str, \n",
    "              col=c(NA, palette()[ 1:length(R_coarse)], rep(\"black\", length(scens2plot))),\n",
    "       lty=c(NA, rep(\"solid\", length(R_coarse)), linetypes[scens2plot]), \n",
    "       lwd=2, bg = \"white\")\n",
    "savePlot2(filename = paste0(\"C2_p_aggrtime_vs_contrast_\", scenario,\".png\"), type = \"png\")\n",
    "if (Sys.info()[\"sysname\"]==\"Windows\") #pdf-export only works in Windows\n",
    "  savePlot2(filename = paste0(\"C2_p_aggrtime_vs_contrast_\", scenario,\".pdf\"), type = \"pdf\")  \n",
    "\n",
    "# convert this Rmd to ipynb by one of these\n",
    "# /home/till/.local/bin/notedown directional_CRNS_demo.Rmd --knit > directional_CRNS_demo.ipynb\n",
    "# /home/till/.local/bin/jupytext --to notebook directional_CRNS_demo.Rmd\n"
   ]
  },
  {
   "cell_type": "markdown",
   "id": "4db42dbd",
   "metadata": {},
   "source": [
    "Minimum contrast $\\Delta {R}$ required to statistically separate the count rates  ${R}_\\text{1r}$ and ${R}_\\text{2r}$ reconstructed from the two directional measurements with a p-value < 0.05."
   ]
  }
 ],
 "metadata": {
  "jupytext": {
   "cell_metadata_filter": "tags,-all",
   "main_language": "R",
   "notebook_metadata_filter": "-all"
  }
 },
 "nbformat": 4,
 "nbformat_minor": 5
}
